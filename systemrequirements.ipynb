{
 "cells": [
  {
   "cell_type": "markdown",
   "metadata": {},
   "source": [
    "## Примерная оценка размера БД\n",
    "\n",
    "Расчет включает только объем данных без учета индексов, выравнивания и прочих накладных расходов\n",
    "\n",
    "### Размер полей\n",
    "\n",
    "#### Таблица `grid`\n",
    "```sql\n",
    "SELECT \n",
    "(round(avg(pg_column_size(g.id)))) AS id,\n",
    "(round(avg(st_memsize(g.geometry)))) AS geometry\n",
    "FROM grid g \n",
    "```\n",
    "\n",
    "#### Таблица `records`\n",
    "```sql\n",
    "SELECT \n",
    "round(avg(pg_column_size(r.temperature))) AS temperature,\n",
    "round(avg(pg_column_size(r.pressure))) AS pressure,\n",
    "round(avg(pg_column_size(r.u_wind))) AS u_wind,\n",
    "round(avg(pg_column_size(r.v_wind))) AS v_wind,\n",
    "round(avg(pg_column_size(r.r_humidity))) AS r_humidity,\n",
    "round(avg(pg_column_size(r.c_rain))) AS c_rain,\n",
    "round(avg(pg_column_size(r.visibility))) AS visibility,\n",
    "round(avg(pg_column_size(r.is_ground))) AS is_ground,\n",
    "round(avg(pg_column_size(r.date_time))) AS date_time\n",
    "FROM records r \n",
    "```\n",
    "\n",
    "### Количество записей\n",
    "\n",
    "Для таблицы `grid` количество записей `grid_row_count` зависит от разрешения `grid_resolution` и неизменно после инициализации\n",
    "\n",
    "Для таблицы `record` количество записей `record_row_count` равно `66` * `grid_row_count` - модель GFS делает серию прогнозов на 180 часов с шагом в 3 часа с обновлением раз в 6 часов (0,6,12,18),\n",
    "соответственно имеем `60` (180/3) прогнозов плюс `6` дополнительных к концу дня (еще по два прогноза для трех циклов: 6,12 и 18 часов) умноженное на число ячеек модели"
   ]
  },
  {
   "cell_type": "code",
   "execution_count": 63,
   "metadata": {},
   "outputs": [],
   "source": [
    "def size_pretty(size:float)->str:\n",
    "    prefix = [\"\",\"K\",\"M\",\"G\",\"T\"]\n",
    "    res = size\n",
    "    pID = 0\n",
    "    while res >= 1024:\n",
    "        res /= 1024\n",
    "        pID += 1\n",
    "        \n",
    "    return f\"{round(res,2)} {prefix[pID]}Byte\""
   ]
  },
  {
   "cell_type": "code",
   "execution_count": 64,
   "metadata": {},
   "outputs": [
    {
     "name": "stdout",
     "output_type": "stream",
     "text": [
      "Grid table:\t31.73 MByte\n",
      "Record table:\t1.61 GByte\n",
      "----------\n",
      "Total:\t\t1.64 GByte\n"
     ]
    }
   ],
   "source": [
    "grid_fields_size = {\n",
    "\t\"id\" : 8,\n",
    "\t\"geometry\" : 120\n",
    "}\n",
    "\n",
    "record_fields_sizes = {\n",
    "\t\"id\" : 8,\n",
    "\t\"temperature\" : 13,\n",
    "\t\"grid_id\" : 8,\n",
    "\t\"pressure\" : 11,\n",
    "\t\"u_wind\" : 13,\n",
    "\t\"v_wind\" : 13,\n",
    "\t\"r_humidity\" : 11,\n",
    "\t\"c_rain\" : 3,\n",
    "\t\"visibility\" : 12,\n",
    "\t\"is_ground\" : 1,\n",
    "\t\"date_time\" : 8\n",
    "}\n",
    "\n",
    "grid_resolution = 0.5 #[1.0,0.5,0.25][1]\n",
    "forecast_resolution = 3 #hour\n",
    "forecast_interval = 180 + 18  #hour\n",
    "\n",
    "\n",
    "grid_row_count = (180 / grid_resolution + 1) * (360.0 / grid_resolution) # 360 градусов долгот, +90/-90 широт плюс экватор\n",
    "record_row_count = (forecast_interval / forecast_resolution) * grid_row_count\n",
    "\n",
    "grid_row_size = sum([s for _,s in grid_fields_size.items()])\n",
    "records_row_size = sum([s for _,s in record_fields_sizes.items()])\n",
    "\n",
    "grid_table_size = grid_row_size * grid_row_count\n",
    "record_table_size = records_row_size * record_row_count\n",
    "\n",
    "total_size = record_table_size + grid_table_size\n",
    "\n",
    "\n",
    "print(f\"Grid table:\t{size_pretty(grid_table_size)}\")\n",
    "print(f\"Record table:\t{size_pretty(record_table_size)}\")\n",
    "print(\"-\" * 10)\n",
    "print(f\"Total:\t\t{size_pretty(total_size)}\")"
   ]
  }
 ],
 "metadata": {
  "kernelspec": {
   "display_name": "Python 3",
   "language": "python",
   "name": "python3"
  },
  "language_info": {
   "codemirror_mode": {
    "name": "ipython",
    "version": 3
   },
   "file_extension": ".py",
   "mimetype": "text/x-python",
   "name": "python",
   "nbconvert_exporter": "python",
   "pygments_lexer": "ipython3",
   "version": "3.11.5"
  }
 },
 "nbformat": 4,
 "nbformat_minor": 2
}
